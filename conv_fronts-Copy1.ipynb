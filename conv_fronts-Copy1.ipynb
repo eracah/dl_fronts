{
 "cells": [
  {
   "cell_type": "code",
   "execution_count": 1,
   "metadata": {
    "collapsed": false
   },
   "outputs": [],
   "source": [
    "import datetime\n",
    "import netCDF4\n",
    "import numpy as np\n",
    "from matplotlib import pyplot as plt\n",
    "import copy\n",
    "%matplotlib inline"
   ]
  },
  {
   "cell_type": "code",
   "execution_count": 2,
   "metadata": {
    "collapsed": false
   },
   "outputs": [
    {
     "name": "stderr",
     "output_type": "stream",
     "text": [
      "Using Theano backend.\n"
     ]
    }
   ],
   "source": [
    "import keras\n",
    "from keras.models import Sequential\n",
    "from keras.layers import Dropout\n",
    "from keras.layers import AtrousConvolution2D, Convolution2D, LocallyConnected2D, SpatialDropout2D, ZeroPadding2D\n",
    "from keras.optimizers import SGD, Adam\n",
    "from theano import tensor as T"
   ]
  },
  {
   "cell_type": "code",
   "execution_count": 3,
   "metadata": {
    "collapsed": true
   },
   "outputs": [],
   "source": [
    "varList1 = ['air', 'prmsl', 'shum', 'uwnd', 'vwnd']\n",
    "varDict1 = {\n",
    "    'air'   : '../NewFiles/air_scaled_3.2m.2009.nc',\n",
    "    'prmsl' : '../NewFiles/prmsl_scaled_3.2009.nc',\n",
    "    'shum'  : '../NewFiles/shum_scaled_3.2m.2009.nc',\n",
    "    'uwnd'  : '../NewFiles/uwnd_scaled_3.10m.2009.nc',\n",
    "    'vwnd'  : '../NewFiles/vwnd_scaled_3.10m.2009.nc'\n",
    "}"
   ]
  },
  {
   "cell_type": "code",
   "execution_count": 4,
   "metadata": {
    "collapsed": true
   },
   "outputs": [],
   "source": [
    "varList2 = ['air_anom', 'prmsl_anom', 'shum_anom', 'uwnd', 'vwnd']\n",
    "varDict2 = {\n",
    "    'air_anom'   : '../NewFiles/air_30day_scaled_3.2m.2009.nc',\n",
    "    'prmsl_anom' : '../NewFiles/prmsl_30day_scaled_3.2009.nc',\n",
    "    'shum_anom'  : '../NewFiles/shum_30day_scaled_3.2m.2009.nc',\n",
    "    'uwnd'       : '../NewFiles/uwnd_scaled_3.10m.2009.nc',\n",
    "    'vwnd'       : '../NewFiles/vwnd_scaled_3.10m.2009.nc'\n",
    "}"
   ]
  },
  {
   "cell_type": "code",
   "execution_count": 5,
   "metadata": {
    "collapsed": true
   },
   "outputs": [],
   "source": [
    "varList3 = ['ugrad_air', 'vgrad_air', 'ugrad_prmsl', 'vgrad_prmsl', 'ugrad_shum', 'vgrad_shum', 'uwnd', 'vwnd']\n",
    "varDict3 = {\n",
    "    'ugrad_air'   : '../NewFiles/gradient_air_scaled_3.2m.2009.nc',\n",
    "    'vgrad_air'   : '../NewFiles/gradient_air_scaled_3.2m.2009.nc',\n",
    "    'ugrad_prmsl' : '../NewFiles/gradient_prmsl_scaled_3.2009.nc',\n",
    "    'vgrad_prmsl' : '../NewFiles/gradient_prmsl_scaled_3.2009.nc',\n",
    "    'ugrad_shum'  : '../NewFiles/gradient_shum_scaled_3.2m.2009.nc',\n",
    "    'vgrad_shum'  : '../NewFiles/gradient_shum_scaled_3.2m.2009.nc',\n",
    "    'uwnd'        : '../NewFiles/uwnd_scaled_3.10m.2009.nc',\n",
    "    'vwnd'        : '../NewFiles/vwnd_scaled_3.10m.2009.nc'\n",
    "}"
   ]
  },
  {
   "cell_type": "code",
   "execution_count": 6,
   "metadata": {
    "collapsed": true
   },
   "outputs": [],
   "source": [
    "varList4 = ['ugrad_air_anom', 'vgrad_air_anom', 'ugrad_prmsl_anom', 'vgrad_prmsl_anom', 'ugrad_shum_anom', 'vgrad_shum_anom', 'uwnd', 'vwnd']\n",
    "varDict4 = {\n",
    "    'ugrad_air_anom'   : '../NewFiles/gradient_air_30day_scaled_3.2m.2009.nc',\n",
    "    'vgrad_air_anom'   : '../NewFiles/gradient_air_30day_scaled_3.2m.2009.nc',\n",
    "    'ugrad_prmsl_anom' : '../NewFiles/gradient_prmsl_30day_scaled_3.2009.nc',\n",
    "    'vgrad_prmsl_anom' : '../NewFiles/gradient_prmsl_30day_scaled_3.2009.nc',\n",
    "    'ugrad_shum_anom'  : '../NewFiles/gradient_shum_30day_scaled_3.2m.2009.nc',\n",
    "    'vgrad_shum_anom'  : '../NewFiles/gradient_shum_30day_scaled_3.2m.2009.nc',\n",
    "    'uwnd'             : '../NewFiles/uwnd_scaled_3.10m.2009.nc',\n",
    "    'vwnd'             : '../NewFiles/vwnd_scaled_3.10m.2009.nc'\n",
    "}"
   ]
  },
  {
   "cell_type": "code",
   "execution_count": 7,
   "metadata": {
    "collapsed": true
   },
   "outputs": [],
   "source": [
    "xBounds = [slice(10,80), slice(23, 100)]\n",
    "yBounds = xBounds\n",
    "shape = [70, 77]"
   ]
  },
  {
   "cell_type": "code",
   "execution_count": 8,
   "metadata": {
    "collapsed": true
   },
   "outputs": [],
   "source": [
    "varDict = varDict2\n",
    "varList = varList2\n",
    "numVars = len(varList)"
   ]
  },
  {
   "cell_type": "code",
   "execution_count": 9,
   "metadata": {
    "collapsed": false
   },
   "outputs": [],
   "source": [
    "data = netCDF4.Dataset(varDict[varList[0]], 'r')\n",
    "\n",
    "gt_data = netCDF4.Dataset('../NewFiles/codsus_scaled_3.2009a.nc')"
   ]
  },
  {
   "cell_type": "code",
   "execution_count": 10,
   "metadata": {
    "collapsed": true
   },
   "outputs": [],
   "source": [
    "time = data.variables['time']\n",
    "\n",
    "gt_time = gt_data.variables['time']\n",
    "\n",
    "ytimes = netCDF4.num2date(gt_time[...], gt_time.units, gt_time.calendar)\n",
    "\n",
    "xindices = netCDF4.date2index(ytimes, time)"
   ]
  },
  {
   "cell_type": "code",
   "execution_count": 11,
   "metadata": {
    "collapsed": true
   },
   "outputs": [],
   "source": [
    "numTimes = len(xindices)\n",
    "\n",
    "del time\n",
    "del ytimes\n",
    "del gt_time\n",
    "del data\n",
    "\n",
    "x = np.ma.zeros((numTimes, numVars, shape[0], shape[1]))"
   ]
  },
  {
   "cell_type": "code",
   "execution_count": 12,
   "metadata": {
    "collapsed": false
   },
   "outputs": [],
   "source": [
    "for i,v in enumerate(varList):\n",
    "    data = netCDF4.Dataset(varDict[v], 'r')\n",
    "    x[:,i,...] = data.variables[v][xindices,xBounds[0],xBounds[1]]\n",
    "    del data\n",
    "\n",
    "x = x.transpose((0,2,3,1))"
   ]
  },
  {
   "cell_type": "code",
   "execution_count": 13,
   "metadata": {
    "collapsed": false
   },
   "outputs": [],
   "source": [
    "y = gt_data.variables['front_images'][:,:,yBounds[0],yBounds[1]]\n",
    "\n",
    "y = y.transpose((0,2,3,1))\n",
    "\n",
    "indices = y.nonzero()\n",
    "\n",
    "y[indices] = 1\n",
    "\n",
    "mask = np.ma.getmaskarray(y)\n",
    "\n",
    "y[mask] = 0\n",
    "\n",
    "for i in range(0,4):\n",
    "    indices = np.where(y[...,i] == 1)\n",
    "\n",
    "    y[indices[0], indices[1], indices[2], i+1:] = 0"
   ]
  },
  {
   "cell_type": "code",
   "execution_count": 14,
   "metadata": {
    "collapsed": false
   },
   "outputs": [
    {
     "name": "stdout",
     "output_type": "stream",
     "text": [
      "(2877, 70, 77, 5) (2877, 70, 77, 5)\n",
      "1\n"
     ]
    }
   ],
   "source": [
    "print x.shape, y.shape\n",
    "print y[0,...,0].max()"
   ]
  },
  {
   "cell_type": "code",
   "execution_count": 15,
   "metadata": {
    "collapsed": false
   },
   "outputs": [],
   "source": [
    "#means = [x_tr[:,v].mean() for v in range(numVars)]"
   ]
  },
  {
   "cell_type": "code",
   "execution_count": 16,
   "metadata": {
    "collapsed": false
   },
   "outputs": [],
   "source": [
    "#for v in range(numVars):\n",
    "#    x_tr[:,v] -= means[v]"
   ]
  },
  {
   "cell_type": "code",
   "execution_count": 17,
   "metadata": {
    "collapsed": true
   },
   "outputs": [],
   "source": [
    "#stds = [x_tr[:,v].std() for v in range(numVars)]"
   ]
  },
  {
   "cell_type": "code",
   "execution_count": 18,
   "metadata": {
    "collapsed": true
   },
   "outputs": [],
   "source": [
    "#for v in range(numVars):\n",
    "#    x_tr[:,v] /= stds[v]"
   ]
  },
  {
   "cell_type": "code",
   "execution_count": 19,
   "metadata": {
    "collapsed": false
   },
   "outputs": [],
   "source": [
    "mags = [abs(x[...,v]).max() for v in range(numVars)]\n",
    "for v in range(numVars):\n",
    "    x[...,v] /= mags[v]"
   ]
  },
  {
   "cell_type": "code",
   "execution_count": 20,
   "metadata": {
    "collapsed": false
   },
   "outputs": [],
   "source": [
    "x_mask = x.mask"
   ]
  },
  {
   "cell_type": "code",
   "execution_count": 21,
   "metadata": {
    "collapsed": true
   },
   "outputs": [],
   "source": [
    "x = np.asarray(x)"
   ]
  },
  {
   "cell_type": "code",
   "execution_count": 22,
   "metadata": {
    "collapsed": false
   },
   "outputs": [],
   "source": [
    "if True == isinstance(x_mask, np.ndarray):\n",
    "    x[x_mask] = 0"
   ]
  },
  {
   "cell_type": "code",
   "execution_count": 23,
   "metadata": {
    "collapsed": false
   },
   "outputs": [],
   "source": [
    "model = Sequential()\n",
    "\n",
    "num_layers = 3\n",
    "\n",
    "model.add(ZeroPadding2D(input_shape=x.shape[1:], padding=(2,2), dim_ordering='tf'))\n",
    "\n",
    "for i in range(num_layers-1):\n",
    "    model.add(Convolution2D(nb_filter=3*numVars, nb_col=5, nb_row=5, activation='relu', dim_ordering='tf'))\n",
    "    model.add(ZeroPadding2D(padding=(2,2), dim_ordering='tf'))\n",
    "\n",
    "#model.add(SpatialDropout2D(0.5, dim_ordering = 'tf'))\n",
    "model.add(Convolution2D(nb_filter=5, nb_col=5, nb_row=5, activation='sigmoid', dim_ordering='tf'))"
   ]
  },
  {
   "cell_type": "code",
   "execution_count": null,
   "metadata": {
    "collapsed": false
   },
   "outputs": [],
   "source": [
    "#model.compile(loss='binary_crossentropy', optimizer=SGD(lr=0.001, momentum=0.9, nesterov=True))\n",
    "model.compile(loss='binary_crossentropy', metrics = ['accuracy'], optimizer=Adam(lr=0.01))"
   ]
  },
  {
   "cell_type": "code",
   "execution_count": null,
   "metadata": {
    "collapsed": false
   },
   "outputs": [
    {
     "name": "stdout",
     "output_type": "stream",
     "text": [
      "Train on 400 samples, validate on 100 samples\n",
      "Epoch 1/100\n",
      "400/400 [==============================] - 10s - loss: 0.2053 - acc: 0.9720 - val_loss: 0.1313 - val_acc: 0.9905\n",
      "Epoch 2/100\n",
      "400/400 [==============================] - 10s - loss: 0.1114 - acc: 0.9904 - val_loss: 0.1062 - val_acc: 0.9905\n",
      "Epoch 3/100\n",
      "400/400 [==============================] - 10s - loss: 0.0910 - acc: 0.9904 - val_loss: 0.0878 - val_acc: 0.9905\n",
      "Epoch 4/100\n",
      "288/400 [====================>.........] - ETA: 2s - loss: 0.0759 - acc: 0.9903"
     ]
    }
   ],
   "source": [
    "model.fit(x[0:500,...], y[0:500,...], nb_epoch=100, batch_size=32, validation_split = 0.2, shuffle = True)"
   ]
  },
  {
   "cell_type": "code",
   "execution_count": null,
   "metadata": {
    "collapsed": false
   },
   "outputs": [],
   "source": [
    "preds = model.predict(x[0:500])"
   ]
  },
  {
   "cell_type": "code",
   "execution_count": null,
   "metadata": {
    "collapsed": false
   },
   "outputs": [],
   "source": [
    "plt.imshow(preds[0,...,1], cmap='gray')"
   ]
  },
  {
   "cell_type": "code",
   "execution_count": null,
   "metadata": {
    "collapsed": false
   },
   "outputs": [],
   "source": [
    "plt.imshow(255*y[0,...,1], cmap='gray')"
   ]
  },
  {
   "cell_type": "code",
   "execution_count": null,
   "metadata": {
    "collapsed": false
   },
   "outputs": [],
   "source": [
    "plt.imshow(x[0,...,0])"
   ]
  },
  {
   "cell_type": "code",
   "execution_count": null,
   "metadata": {
    "collapsed": true
   },
   "outputs": [],
   "source": []
  }
 ],
 "metadata": {
  "anaconda-cloud": {},
  "kernelspec": {
   "display_name": "Python [conda env:SERDP]",
   "language": "python",
   "name": "conda-env-SERDP-py"
  },
  "language_info": {
   "codemirror_mode": {
    "name": "ipython",
    "version": 2
   },
   "file_extension": ".py",
   "mimetype": "text/x-python",
   "name": "python",
   "nbconvert_exporter": "python",
   "pygments_lexer": "ipython2",
   "version": "2.7.12"
  }
 },
 "nbformat": 4,
 "nbformat_minor": 0
}
